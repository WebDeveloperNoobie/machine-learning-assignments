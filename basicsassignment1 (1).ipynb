{
 "cells": [
  {
   "cell_type": "raw",
   "id": "cdf8823d-d83d-436f-95b9-17d310e5eb02",
   "metadata": {},
   "source": [
    "1. In the below elements which of them are values or an expression? eg:- values can be\n",
    "integer or string and expressions will be mathematical operators.\n",
    "*\n",
    "'hello'\n",
    "-87.8\n",
    "-\n",
    "/\n",
    "+\n",
    "6\n",
    "\n",
    "SOLUTION:\n",
    "\n",
    "*            expression\n",
    "'hello'      values\n",
    "-87.8        values\n",
    "-            expression\n",
    "/            expression\n",
    "+            expression \n",
    "6            values"
   ]
  },
  {
   "cell_type": "raw",
   "id": "ef9477d8-95f1-4cdc-ad82-914cdb1b072a",
   "metadata": {},
   "source": [
    "2. What is the difference between string and variable?\n",
    "SOLUTION:\n",
    "string are the values that are stored in the variables string can be denoted by using double quote or single quote\n",
    "variables are the containers that stores values inside them it can be anything number, string , boolean etc. "
   ]
  },
  {
   "cell_type": "raw",
   "id": "e771d7c2-bd83-4cfb-ad70-1c281d6a652e",
   "metadata": {},
   "source": [
    "3. Describe three different data types.\n",
    "SOLUTION:\n",
    "there data types are as :\n",
    "#numeric: numeric datatypes are those datatypes that contains number in them them are broadly divided into complex , int                 ,float\n",
    "#boolean : boolean datatypes contain only two values either it will be true or false for given situation\n",
    "#str :   set datatypes contains string values any values enclosed within single or double quote can be considered as string."
   ]
  },
  {
   "cell_type": "raw",
   "id": "51153cfc-37b8-4893-a9d3-cdb11c1c402d",
   "metadata": {},
   "source": [
    "4. What is an expression made up of? What do all expressions do?\n",
    "SOLUTION:\n",
    "expression are made up of mathematical operators in them which helps the expression to get solve "
   ]
  },
  {
   "cell_type": "raw",
   "id": "eeb47588-6f57-4e1f-b4a3-a42ec32244aa",
   "metadata": {},
   "source": [
    "5. This assignment statements, like spam = 10. What is the difference between an\n",
    "expression and a statement?\n",
    "SOLUTION:\n",
    "The only difference in above expression and a statement is that statement is just giving information and spam=10 expression stores a numeric value 10 inside it and type of the variable spam is numeric."
   ]
  },
  {
   "cell_type": "raw",
   "id": "adcfed11-1572-4f71-b159-6e17f86f9e54",
   "metadata": {},
   "source": [
    "6. After running the following code, what does the variable bacon contain?\n",
    "bacon = 22\n",
    "bacon + 1\n",
    "SOLUTION:"
   ]
  },
  {
   "cell_type": "code",
   "execution_count": 9,
   "id": "e4e4b1f4-b588-4696-b43a-12e68be9e947",
   "metadata": {},
   "outputs": [
    {
     "data": {
      "text/plain": [
       "23"
      ]
     },
     "execution_count": 9,
     "metadata": {},
     "output_type": "execute_result"
    }
   ],
   "source": [
    "bacon=22\n",
    "bacon+1"
   ]
  },
  {
   "cell_type": "raw",
   "id": "d6df29ed-4010-4a89-b331-8ad338812d1a",
   "metadata": {},
   "source": [
    "7. What should the values of the following two terms be?\n",
    "'spam'+'spamspam'\n",
    "'spam'*3\n",
    "SOLUTION:"
   ]
  },
  {
   "cell_type": "code",
   "execution_count": 12,
   "id": "aba1bd91-f60b-4f46-a516-0d21e7a5f6fa",
   "metadata": {},
   "outputs": [
    {
     "data": {
      "text/plain": [
       "'spamspamspam'"
      ]
     },
     "execution_count": 12,
     "metadata": {},
     "output_type": "execute_result"
    }
   ],
   "source": [
    "'spam'+'spamspam'"
   ]
  },
  {
   "cell_type": "code",
   "execution_count": 13,
   "id": "b2319c36-28e1-4a74-b554-0b2394f3be17",
   "metadata": {},
   "outputs": [
    {
     "data": {
      "text/plain": [
       "'spamspamspam'"
      ]
     },
     "execution_count": 13,
     "metadata": {},
     "output_type": "execute_result"
    }
   ],
   "source": [
    "'spam'*3"
   ]
  },
  {
   "cell_type": "raw",
   "id": "3eddfbad-9716-4b28-b0c2-6379a70c4b75",
   "metadata": {},
   "source": [
    "8. Why is eggs a valid variable name while 100 is invalid?\n",
    "SOLUTION: \n",
    "egg is valid variable and 100 is invalid because according to rules for creating a variable first digit should not be a integer ."
   ]
  },
  {
   "cell_type": "raw",
   "id": "5159f49c-08ea-4c94-b251-d71071a3ff8f",
   "metadata": {},
   "source": [
    "9. What three functions can be used to get the integer, floating-point number, or string\n",
    "version of a value?\n",
    "SOLUTION:\n",
    "int()\n",
    "float()\n",
    "str()"
   ]
  },
  {
   "cell_type": "raw",
   "id": "235e5fce-77ea-4c41-848c-32b3fa6996e5",
   "metadata": {},
   "source": [
    "10. Why does this expression cause an error? How can you fix it?\n",
    "'i have eaten'+99+'burritos.'\n",
    "SOLUTION:\n",
    "according to concatenation rule numeric value can not be concatenated so to concatenate it we must make numeric value to string then it can be concatenated"
   ]
  },
  {
   "cell_type": "code",
   "execution_count": 14,
   "id": "ccddd609-f4b8-4bf5-8e7a-b8c615a34c4e",
   "metadata": {},
   "outputs": [
    {
     "ename": "TypeError",
     "evalue": "can only concatenate str (not \"int\") to str",
     "output_type": "error",
     "traceback": [
      "\u001b[0;31m---------------------------------------------------------------------------\u001b[0m",
      "\u001b[0;31mTypeError\u001b[0m                                 Traceback (most recent call last)",
      "Cell \u001b[0;32mIn [14], line 1\u001b[0m\n\u001b[0;32m----> 1\u001b[0m \u001b[38;5;124;43m'\u001b[39;49m\u001b[38;5;124;43mi have eaten\u001b[39;49m\u001b[38;5;124;43m'\u001b[39;49m\u001b[38;5;241;43m+\u001b[39;49m\u001b[38;5;241;43m99\u001b[39;49m\u001b[38;5;241m+\u001b[39m\u001b[38;5;124m'\u001b[39m\u001b[38;5;124mburritos.\u001b[39m\u001b[38;5;124m'\u001b[39m\n",
      "\u001b[0;31mTypeError\u001b[0m: can only concatenate str (not \"int\") to str"
     ]
    }
   ],
   "source": [
    " 'i have eaten'+99+'burritos.'"
   ]
  },
  {
   "cell_type": "code",
   "execution_count": 16,
   "id": "c287d9bd-d605-4e3f-8da3-4a84c9567f1b",
   "metadata": {},
   "outputs": [
    {
     "data": {
      "text/plain": [
       "'i have eaten 99 burritos.'"
      ]
     },
     "execution_count": 16,
     "metadata": {},
     "output_type": "execute_result"
    }
   ],
   "source": [
    "'i have eaten'+' 99 '+'burritos.'"
   ]
  },
  {
   "cell_type": "code",
   "execution_count": null,
   "id": "48f4d515-0d97-4ff7-a4d4-49bd4ae8f555",
   "metadata": {},
   "outputs": [],
   "source": []
  }
 ],
 "metadata": {
  "kernelspec": {
   "display_name": "Python 3 (ipykernel)",
   "language": "python",
   "name": "python3"
  },
  "language_info": {
   "codemirror_mode": {
    "name": "ipython",
    "version": 3
   },
   "file_extension": ".py",
   "mimetype": "text/x-python",
   "name": "python",
   "nbconvert_exporter": "python",
   "pygments_lexer": "ipython3",
   "version": "3.10.6"
  }
 },
 "nbformat": 4,
 "nbformat_minor": 5
}
