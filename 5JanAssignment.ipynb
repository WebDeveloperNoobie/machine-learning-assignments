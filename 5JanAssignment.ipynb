{
 "cells": [
  {
   "cell_type": "markdown",
   "id": "63f709b4-8573-4c11-ba2f-701d0e6b2511",
   "metadata": {},
   "source": [
    "write a program to accept 5 integer from the user , store them in a list , display these integers and also display their sum"
   ]
  },
  {
   "cell_type": "code",
   "execution_count": 9,
   "id": "f40fcc91-f1e4-4a01-9f6b-dd2f83860782",
   "metadata": {},
   "outputs": [
    {
     "name": "stdin",
     "output_type": "stream",
     "text": [
      "enter value for integer 1 1\n",
      "enter value for integer 2 2\n",
      "enter value for integer 3 3\n",
      "enter value for integer 4 4\n",
      "enter value for integer 5 4\n"
     ]
    }
   ],
   "source": [
    "int1=int(input(\"enter value for integer 1\"))\n",
    "int2=int(input(\"enter value for integer 2\"))\n",
    "int3=int(input(\"enter value for integer 3\"))\n",
    "int4=int(input(\"enter value for integer 4\"))\n",
    "int5=int(input(\"enter value for integer 5\"))"
   ]
  },
  {
   "cell_type": "code",
   "execution_count": 11,
   "id": "dd746080-411f-4482-ad8f-3e8c7252d28f",
   "metadata": {},
   "outputs": [],
   "source": [
    "list=[int1,int2,int3,int4,int5]"
   ]
  },
  {
   "cell_type": "code",
   "execution_count": 12,
   "id": "b896f4f7-0114-4b54-b93b-e8a4b988285d",
   "metadata": {},
   "outputs": [
    {
     "data": {
      "text/plain": [
       "[1, 2, 3, 4, 4]"
      ]
     },
     "execution_count": 12,
     "metadata": {},
     "output_type": "execute_result"
    }
   ],
   "source": [
    "list"
   ]
  },
  {
   "cell_type": "code",
   "execution_count": 13,
   "id": "42d75966-ede0-4a5e-a429-79ee2566a709",
   "metadata": {},
   "outputs": [
    {
     "data": {
      "text/plain": [
       "14"
      ]
     },
     "execution_count": 13,
     "metadata": {},
     "output_type": "execute_result"
    }
   ],
   "source": [
    "sum(list)"
   ]
  },
  {
   "cell_type": "markdown",
   "id": "4616e217-1ff6-4bf3-aec6-ed529a0288ce",
   "metadata": {},
   "source": [
    "write a program to accept 5 unique integers from the user . make sure if the integer being entered \n",
    "is already present in the list,your code display the message 'item already present' and ask the user to re-enter the \n",
    "integer"
   ]
  },
  {
   "cell_type": "code",
   "execution_count": 1,
   "id": "ed5b3a2d-0e95-4e99-9fb0-4b8135ccb578",
   "metadata": {},
   "outputs": [
    {
     "name": "stdin",
     "output_type": "stream",
     "text": [
      "user please enter the integer of your choice 31\n"
     ]
    },
    {
     "name": "stdout",
     "output_type": "stream",
     "text": [
      "re-enter the integer\n"
     ]
    },
    {
     "name": "stdin",
     "output_type": "stream",
     "text": [
      "user please enter the integer of your choice 31\n"
     ]
    }
   ],
   "source": [
    "my_list=[12,13,132,2,323,24,255,412]\n",
    "integer=int(input(\"user please enter the integer of your choice\"))\n",
    "if integer in my_list:\n",
    "    print(\"item already present\")\n",
    "print(\"re-enter the integer\")\n",
    "integer=int(input(\"user please enter the integer of your choice\"))\n",
    "    "
   ]
  },
  {
   "cell_type": "markdown",
   "id": "772d88a0-85fc-46b4-8fbb-ac7050ad5e44",
   "metadata": {},
   "source": [
    "write a program to accept 2 list from the user of 5 no.s each.assume each list have unique number now find out how many items in the list are common"
   ]
  },
  {
   "cell_type": "code",
   "execution_count": null,
   "id": "0b881706-c110-4349-abf1-f9e8d8a143bb",
   "metadata": {},
   "outputs": [],
   "source": []
  }
 ],
 "metadata": {
  "kernelspec": {
   "display_name": "Python 3 (ipykernel)",
   "language": "python",
   "name": "python3"
  },
  "language_info": {
   "codemirror_mode": {
    "name": "ipython",
    "version": 3
   },
   "file_extension": ".py",
   "mimetype": "text/x-python",
   "name": "python",
   "nbconvert_exporter": "python",
   "pygments_lexer": "ipython3",
   "version": "3.10.6"
  }
 },
 "nbformat": 4,
 "nbformat_minor": 5
}
