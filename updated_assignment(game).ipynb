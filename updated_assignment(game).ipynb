{
 "cells": [
  {
   "cell_type": "markdown",
   "id": "49622b3d-09c8-4f4b-aa9b-35a480477797",
   "metadata": {},
   "source": [
    "*************************************13 december**********************************"
   ]
  },
  {
   "cell_type": "code",
   "execution_count": 15,
   "id": "727b75ae-0320-4751-96b9-625ae3b518f0",
   "metadata": {},
   "outputs": [
    {
     "name": "stdin",
     "output_type": "stream",
     "text": [
      "enter first number 3\n",
      "enter second number 4\n"
     ]
    },
    {
     "name": "stdout",
     "output_type": "stream",
     "text": [
      "value for a is 3\n",
      "value for b is 4\n",
      "value for sum is 7\n"
     ]
    }
   ],
   "source": [
    "#●\tWAP to accept two numbers from the user and display their sum\n",
    "\n",
    "a=int(input(\"enter first number\"))\n",
    "b=int(input(\"enter second number\"))\n",
    "print(\"value for a is\",a)\n",
    "print(\"value for b is\",b)\n",
    "c=a+b\n",
    "print(\"value for sum is\",c)"
   ]
  },
  {
   "cell_type": "code",
   "execution_count": 4,
   "id": "486aad50-026d-45e5-98cf-834c17b1ce3d",
   "metadata": {},
   "outputs": [
    {
     "name": "stdin",
     "output_type": "stream",
     "text": [
      "enter value for radius of circle 3\n"
     ]
    },
    {
     "name": "stdout",
     "output_type": "stream",
     "text": [
      "value entered for radius is 3\n",
      "circumference of circle is 18.846\n",
      "area of the circle is 28.269\n"
     ]
    }
   ],
   "source": [
    "#●\tWAP to accept radius of a Circle from the user and calculate area and circumference\n",
    "\n",
    "radius=int(input(\"enter value for radius of circle\"))\n",
    "print(\"value entered for radius is\",radius)\n",
    "circumference=2*3.141*radius\n",
    "area=3.141*radius**2\n",
    "print(\"circumference of circle is\",circumference)\n",
    "print(\"area of the circle is\",area)"
   ]
  },
  {
   "cell_type": "code",
   "execution_count": 9,
   "id": "b157a071-6df6-408c-a10b-afce9a3b4846",
   "metadata": {},
   "outputs": [
    {
     "name": "stdin",
     "output_type": "stream",
     "text": [
      "enter your roll number 16104103036\n",
      "enter your grade obtained A\n",
      "enter your percentage secured 80\n"
     ]
    },
    {
     "name": "stdout",
     "output_type": "stream",
     "text": [
      "your entered roll number is 16104103036\n",
      "your entered grade is A\n",
      "your entered percentage is 80\n"
     ]
    }
   ],
   "source": [
    "#●\tWAP to accept roll number , grade and percentage as input from the user and display it back\n",
    "\n",
    "e=int(input(\"enter your roll number\"))\n",
    "f=str(input(\"enter your grade obtained\"))\n",
    "g=int(input(\"enter your percentage secured\"))\n",
    "print(\"your entered roll number is\",e)\n",
    "print(\"your entered grade is\",f)\n",
    "print(\"your entered percentage is\",g)"
   ]
  },
  {
   "cell_type": "code",
   "execution_count": 8,
   "id": "025a458c-f34a-4b58-8148-219c23959d4b",
   "metadata": {},
   "outputs": [
    {
     "name": "stdin",
     "output_type": "stream",
     "text": [
      "enter your name Aashish\n",
      "enter your age 23\n"
     ]
    },
    {
     "name": "stdout",
     "output_type": "stream",
     "text": [
      "your name is Aashish\n",
      "your present age is 23\n",
      "you are going to turn 100 year old on 2099\n"
     ]
    }
   ],
   "source": [
    "#●\tWrite a program that asks the user to enter his/her name and age. Print out a message , displaying the user’s name along with the year in which they will turn 100 years old\n",
    "\n",
    "name=str(input(\"enter your name\"))\n",
    "age=int(input(\"enter your age\"))\n",
    "birth_year=2022-age\n",
    "century_yr=birth_year+100\n",
    "print(\"your name is\",name)\n",
    "print(\"your present age is\",age)\n",
    "print(\"you are going to turn 100 year old on\",century_yr)"
   ]
  },
  {
   "cell_type": "markdown",
   "id": "3bbe8f57-50f6-46ed-b236-68388cfbdc11",
   "metadata": {},
   "source": [
    "x=int(input(\"enter first number\"))\n",
    "z=int(input(\"enter second number\"))\n",
    "y=x+z\n",
    "print(\"sum is\",y)\n",
    "\n"
   ]
  },
  {
   "cell_type": "code",
   "execution_count": 27,
   "id": "dff26635-4d31-4e8b-8212-36b909ca4853",
   "metadata": {},
   "outputs": [
    {
     "name": "stdin",
     "output_type": "stream",
     "text": [
      "enter your first name Aashish\n",
      "enter your last name Kumar\n"
     ]
    },
    {
     "name": "stdout",
     "output_type": "stream",
     "text": [
      "ramuK hsihsaA\n"
     ]
    }
   ],
   "source": [
    "#●\tWrite a Python program which accepts the user's first and last name and print them in reverse order with a space between them.\n",
    "\n",
    "first_name=str(input(\"enter your first name\"))\n",
    "last_name=str(input(\"enter your last name\"))\n",
    "print(last_name[-1::-1],first_name[-1::-1])"
   ]
  },
  {
   "cell_type": "code",
   "execution_count": 14,
   "id": "25135396-de8c-47b9-b5d8-b0cea3561d6e",
   "metadata": {},
   "outputs": [
    {
     "name": "stdin",
     "output_type": "stream",
     "text": [
      " 2 3\n"
     ]
    },
    {
     "name": "stdout",
     "output_type": "stream",
     "text": [
      "5\n"
     ]
    }
   ],
   "source": [
    "#●\tWrite a program that asks the user to input 2 integers and adds them . Accept both the numbers in a single line only\n",
    "\n",
    "x, y = map(int, input().split())\n",
    "c=x+y\n",
    "print(c)"
   ]
  },
  {
   "cell_type": "markdown",
   "id": "9ba95711-7ef0-445f-99c1-28fe232dc7f2",
   "metadata": {},
   "source": [
    "************************** 15 december ***************************************"
   ]
  },
  {
   "cell_type": "code",
   "execution_count": 17,
   "id": "caaaf542-971e-4e01-a94a-12dc1b12af57",
   "metadata": {},
   "outputs": [
    {
     "name": "stdin",
     "output_type": "stream",
     "text": [
      "user please enter integer of your choice 4\n"
     ]
    },
    {
     "name": "stdout",
     "output_type": "stream",
     "text": [
      "entered number 4 id even\n"
     ]
    }
   ],
   "source": [
    "#●\tWAP to accept an integer from the user and check whether it is an even or odd \n",
    "\n",
    "n1=int(input(\"user please enter integer of your choice\"))\n",
    "if n1%2==0:\n",
    "    print(\"entered number %d id even\" %(n1))\n",
    "else:\n",
    "    print(\"entered number %d is odd\" %(n1))"
   ]
  },
  {
   "cell_type": "code",
   "execution_count": 20,
   "id": "b7afe703-88d3-42e5-9375-53656688d42e",
   "metadata": {},
   "outputs": [
    {
     "name": "stdin",
     "output_type": "stream",
     "text": [
      "user please enter the character of your choice in english alphabet a\n"
     ]
    },
    {
     "name": "stdout",
     "output_type": "stream",
     "text": [
      "entered alphabet a is small\n"
     ]
    }
   ],
   "source": [
    "#●\tWAP to accept a character from the user and check whether it is a capital letter or small letter. Assume user will input only alphabets\n",
    "\n",
    "alp=input(\"user please enter the character of your choice in english alphabet\")\n",
    "if \"A\" <= alp <= \"Z\":\n",
    "    print(\"entered alphabet {alp} is capital\" .format(alp=alp) )\n",
    "else:\n",
    "    print(\"entered alphabet {alp} is small\" .format(alp=alp))"
   ]
  },
  {
   "cell_type": "code",
   "execution_count": 23,
   "id": "42fa336a-a5e9-4401-9b18-ca9cf66ee620",
   "metadata": {},
   "outputs": [
    {
     "name": "stdin",
     "output_type": "stream",
     "text": [
      "enter please enter the character of your's choice $\n"
     ]
    },
    {
     "name": "stdout",
     "output_type": "stream",
     "text": [
      "entered character $ is some special symbol\n"
     ]
    }
   ],
   "source": [
    "#●\tWAP to accept a character from the user and check whether it is a capital letter or small letter. Assume user will input only alphabets\n",
    "\n",
    "char=input(\"enter please enter the character of your's choice\")\n",
    "if  \"A\" <= char <= \"Z\":\n",
    "    print(\"entered character %s is capital alphabet from english\" %(char))\n",
    "elif \"a\" <= char <= \"z\":\n",
    "    print(\"entered character %s is small alphabet from english\" %(char))\n",
    "else:\n",
    "    print(\"entered character %s is some special symbol\" %(char))"
   ]
  },
  {
   "cell_type": "code",
   "execution_count": 33,
   "id": "0dc45b9f-f236-488a-a1cf-e58b0e02e5bb",
   "metadata": {},
   "outputs": [
    {
     "name": "stdin",
     "output_type": "stream",
     "text": [
      "enter the first number 4\n",
      "enter the second number 2\n",
      "enter the third number 1\n"
     ]
    },
    {
     "name": "stdout",
     "output_type": "stream",
     "text": [
      "your entered values are 4 2 1\n",
      "num1 is greatest\n"
     ]
    }
   ],
   "source": [
    "#●\tWAP to accept 3 integers from the user and without using any logical operator and cascading of relational operators , find out the greatest number amongst them\n",
    "\n",
    "num1=int(input(\"enter the first number\"))\n",
    "num2=int(input(\"enter the second number\"))\n",
    "num3=int(input(\"enter the third number\"))\n",
    "print(\"your entered values are\", num1 , num2 , num3)\n",
    "if num1>num2 and num1>num3:\n",
    "    print(\"num1 is greatest\")\n",
    "if num2>num3 and num2>num1:\n",
    "    print(\"num2 is greatest\")\n",
    "if num3>num2 and num3>num1:\n",
    "    print(\"num3 is greatest\")"
   ]
  },
  {
   "cell_type": "code",
   "execution_count": 41,
   "id": "6ae7e3d7-1da2-484c-9830-265b80c3a9fc",
   "metadata": {},
   "outputs": [
    {
     "name": "stdin",
     "output_type": "stream",
     "text": [
      "user please enter a year value 2000\n"
     ]
    },
    {
     "name": "stdout",
     "output_type": "stream",
     "text": [
      "your entered value for year 2000 is leap year\n"
     ]
    }
   ],
   "source": [
    "#●\tWAP to accept a year from the user and check whether it is a leap year or not.\n",
    "\n",
    "year=int(input(\"user please enter a year value\"))\n",
    "if year%400==0:\n",
    "    print(\"your entered value for year %d is leap year\" %(year))\n",
    "else:\n",
    "    print(\"your entered value for year %d is not leap year\" %(year))"
   ]
  },
  {
   "cell_type": "code",
   "execution_count": 51,
   "id": "c74a906f-b973-4d12-80a3-9ceae455bf45",
   "metadata": {},
   "outputs": [
    {
     "name": "stdin",
     "output_type": "stream",
     "text": [
      "user please enter string of your choice aashish\n"
     ]
    },
    {
     "name": "stdout",
     "output_type": "stream",
     "text": [
      "s\n",
      "h\n",
      "s\n",
      "h\n"
     ]
    }
   ],
   "source": [
    "#●\tWrite a program to accept a string from the user and display it vertically but don’t display the vowels in it.\n",
    "\n",
    "name=input(\"user please enter string of your choice\")\n",
    "i=0\n",
    "while i<len(str):\n",
    "    if name[i] in [\"a\",\"e\",\"i\",\"o\",\"u\"]:\n",
    "        pass\n",
    "    else:\n",
    "        print(name[i])\n",
    "    i=i+1\n",
    "    "
   ]
  },
  {
   "cell_type": "code",
   "execution_count": 64,
   "id": "c15fa37c-cc4b-462d-b607-237ad3902fea",
   "metadata": {},
   "outputs": [
    {
     "name": "stdin",
     "output_type": "stream",
     "text": [
      "user please enter the string aashish\n"
     ]
    },
    {
     "name": "stdout",
     "output_type": "stream",
     "text": [
      "output string without vowels is shsh\n"
     ]
    }
   ],
   "source": [
    "#●\tWrite a program using a for loop to accept a string from the user and display it vertically but don’t display the vowels in it\n",
    "\n",
    "str=input(\"user please enter the string\")\n",
    "vowel_str=\"aeiouAEIOU\"\n",
    "for char in str:\n",
    "    if char in vowel_str:\n",
    "        str=str.replace(char,\"\")\n",
    "print(\"output string without vowels is\",str)"
   ]
  },
  {
   "cell_type": "code",
   "execution_count": 65,
   "id": "a2f394fb-5e5a-485b-8388-c7af2e4e38ca",
   "metadata": {},
   "outputs": [
    {
     "name": "stdin",
     "output_type": "stream",
     "text": [
      "enter the integer value 2\n"
     ]
    },
    {
     "data": {
      "text/plain": [
       "2"
      ]
     },
     "execution_count": 65,
     "metadata": {},
     "output_type": "execute_result"
    }
   ],
   "source": [
    "#●\tWrite a program to continuously accept integers from the user until the user types 0 and as soon as 0 is entered display sum of all the nos entered before 0\n",
    "\n",
    "int(input(\"enter the integer value\"))\n",
    "\n",
    " \n",
    "\n",
    "\n"
   ]
  },
  {
   "cell_type": "code",
   "execution_count": 13,
   "id": "91e494e7-1580-4515-83fe-28dc43592b3e",
   "metadata": {},
   "outputs": [
    {
     "name": "stdout",
     "output_type": "stream",
     "text": [
      "27\n"
     ]
    },
    {
     "name": "stdin",
     "output_type": "stream",
     "text": [
      "enter your number 27\n"
     ]
    },
    {
     "name": "stdout",
     "output_type": "stream",
     "text": [
      "congratulations!!\n"
     ]
    }
   ],
   "source": [
    "#●\tYou have to develop a number guessing game. Following are the steps needed:\n",
    "#●\tAt first , the program will generate a random integer secretly.\n",
    "\n",
    "#●\tNow it will ask the user to guess that number .\n",
    "\n",
    "#●\tIf the user guessed it correctly then the program prints “Congratulations! You guessed it right” .\n",
    "\n",
    "#●\tBut if the number guessed by the user is larger than the secret number then program should print “Number too large” and , if the number guessed by the user is smaller than the secret number then the program should print “Number too small” \n",
    "\n",
    "#●\tThis should continue until the user guesses the number correctly or quits .\n",
    "\n",
    "#●\tIf the user wants to quit in between he will have to type 0 or negative number\n",
    "\n",
    "\n",
    "import random\n",
    "number = random.randint(1,50)\n",
    "print(number)\n",
    "guess=0\n",
    "while guess !=number:\n",
    "    guess=int(input(\"enter your number\"))\n",
    "if guess>number:\n",
    "            print(\"number too large\")\n",
    "elif guess<number:\n",
    "            print(\"number too small\")\n",
    "else:\n",
    "            print(\"congratulations!!\")\n",
    "            \n",
    "        "
   ]
  },
  {
   "cell_type": "code",
   "execution_count": 74,
   "id": "94ee4cb0-cdb1-47e4-b1fc-99e2175e379f",
   "metadata": {},
   "outputs": [
    {
     "name": "stdin",
     "output_type": "stream",
     "text": [
      "enter any positive integer number 3\n"
     ]
    },
    {
     "name": "stdout",
     "output_type": "stream",
     "text": [
      "sum of all number from that number is 6\n"
     ]
    }
   ],
   "source": [
    "#●\tWrite a program to accept an integer from the user and display the sum of all the numbers from 1 to that number.\n",
    "number=int(input(\"enter any positive integer number\"))\n",
    "i=0\n",
    "for i in range(0,number):\n",
    "    number=number+i\n",
    "    i=i+1\n",
    "print(\"sum of all number from that number is\",number)\n",
    "\n",
    "\n"
   ]
  },
  {
   "cell_type": "code",
   "execution_count": 70,
   "id": "e1dbaccb-e394-4ec2-9448-d6ea06b0ae79",
   "metadata": {},
   "outputs": [
    {
     "name": "stdin",
     "output_type": "stream",
     "text": [
      "enter any positive integer number 3\n"
     ]
    },
    {
     "name": "stdout",
     "output_type": "stream",
     "text": [
      "The factorial of number is : 6\n"
     ]
    }
   ],
   "source": [
    "#●\tWrite a program to accept an integer from the user and calculate its factorial\n",
    "\n",
    "number=int(input(\"enter any positive integer number\"))\n",
    "fact = 1\n",
    " \n",
    "for i in range(1, number+1):\n",
    "    fact = fact * i\n",
    " \n",
    "print(\"The factorial of number is : \", end=\"\")\n",
    "print(fact)\n"
   ]
  },
  {
   "cell_type": "code",
   "execution_count": 109,
   "id": "383edafe-e963-4bfa-afbe-9c012f904419",
   "metadata": {},
   "outputs": [
    {
     "name": "stdout",
     "output_type": "stream",
     "text": [
      " #  #  # \n",
      " #  #  # \n",
      " #  #  # \n",
      " #  #  # \n"
     ]
    }
   ],
   "source": [
    "#●\tWrite a program to print the following pattern \n",
    "\n",
    "for i in range(1,5):\n",
    "    for j in range(1,4):\n",
    "        print(\" # \",end=\"\")\n",
    "    print()"
   ]
  },
  {
   "cell_type": "code",
   "execution_count": 110,
   "id": "4fe5d11a-a968-46e7-ab09-c3e13d9369f2",
   "metadata": {},
   "outputs": [
    {
     "name": "stdout",
     "output_type": "stream",
     "text": [
      " * \n",
      " *  * \n",
      " *  *  * \n",
      " *  *  *  * \n"
     ]
    }
   ],
   "source": [
    "#●\tWrite a program to print the following pattern \n",
    "\n",
    "for i in range(1,5):\n",
    "    for j in range(1,i+1):\n",
    "        print(\" * \",end=\"\")\n",
    "    print()\n"
   ]
  },
  {
   "cell_type": "code",
   "execution_count": 117,
   "id": "a3cf75fd-a7bc-44de-9d5b-c1d39065f46a",
   "metadata": {},
   "outputs": [
    {
     "name": "stdout",
     "output_type": "stream",
     "text": [
      " *  *  *  * \n",
      " *  *  * \n",
      " *  * \n",
      " * \n"
     ]
    }
   ],
   "source": [
    "#●\tWrite a program to print the following pattern \n",
    "\n",
    "for i in range(1,5):\n",
    "    for j in range(1,6-i):\n",
    "        print(\" * \",end=\"\")\n",
    "    print()\n",
    "        "
   ]
  },
  {
   "cell_type": "code",
   "execution_count": null,
   "id": "cdae77a4-45a5-40cd-a4d5-6d385cb1a33e",
   "metadata": {},
   "outputs": [],
   "source": []
  }
 ],
 "metadata": {
  "kernelspec": {
   "display_name": "Python 3 (ipykernel)",
   "language": "python",
   "name": "python3"
  },
  "language_info": {
   "codemirror_mode": {
    "name": "ipython",
    "version": 3
   },
   "file_extension": ".py",
   "mimetype": "text/x-python",
   "name": "python",
   "nbconvert_exporter": "python",
   "pygments_lexer": "ipython3",
   "version": "3.10.6"
  }
 },
 "nbformat": 4,
 "nbformat_minor": 5
}
